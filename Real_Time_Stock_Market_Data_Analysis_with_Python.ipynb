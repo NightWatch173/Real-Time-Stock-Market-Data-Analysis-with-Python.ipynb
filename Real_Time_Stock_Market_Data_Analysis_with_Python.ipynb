{
  "nbformat": 4,
  "nbformat_minor": 0,
  "metadata": {
    "colab": {
      "name": "Real Time Stock Market Data Analysis with Python.ipynb",
      "provenance": [],
      "authorship_tag": "ABX9TyMIFKpvVEsBHxxlNQjAleHs",
      "include_colab_link": true
    },
    "kernelspec": {
      "name": "python3",
      "display_name": "Python 3"
    }
  },
  "cells": [
    {
      "cell_type": "markdown",
      "metadata": {
        "id": "view-in-github",
        "colab_type": "text"
      },
      "source": [
        "<a href=\"https://colab.research.google.com/github/ayushshah04/Real-Time-Stock-Market-Data-Analysis-with-Python.ipynb/blob/main/Real_Time_Stock_Market_Data_Analysis_with_Python.ipynb\" target=\"_parent\"><img src=\"https://colab.research.google.com/assets/colab-badge.svg\" alt=\"Open In Colab\"/></a>"
      ]
    },
    {
      "cell_type": "code",
      "metadata": {
        "colab": {
          "base_uri": "https://localhost:8080/"
        },
        "id": "vK0IWYHqMYM1",
        "outputId": "66984309-d488-43a0-cd68-c97fc71467f1"
      },
      "source": [
        "!pip install alpha_vantage"
      ],
      "execution_count": 1,
      "outputs": [
        {
          "output_type": "stream",
          "text": [
            "Collecting alpha_vantage\n",
            "  Downloading https://files.pythonhosted.org/packages/ba/b4/d95f9e0eccea6732bab5a079772d453a4f0b68a9f63740d9cf320f92beaa/alpha_vantage-2.3.1-py3-none-any.whl\n",
            "Collecting aiohttp\n",
            "\u001b[?25l  Downloading https://files.pythonhosted.org/packages/ad/e6/d4b6235d776c9b33f853e603efede5aac5a34f71ca9d3877adb30492eb4e/aiohttp-3.7.3-cp36-cp36m-manylinux2014_x86_64.whl (1.3MB)\n",
            "\u001b[K     |████████████████████████████████| 1.3MB 6.9MB/s \n",
            "\u001b[?25hRequirement already satisfied: requests in /usr/local/lib/python3.6/dist-packages (from alpha_vantage) (2.23.0)\n",
            "Requirement already satisfied: attrs>=17.3.0 in /usr/local/lib/python3.6/dist-packages (from aiohttp->alpha_vantage) (20.3.0)\n",
            "Requirement already satisfied: typing-extensions>=3.6.5 in /usr/local/lib/python3.6/dist-packages (from aiohttp->alpha_vantage) (3.7.4.3)\n",
            "Collecting yarl<2.0,>=1.0\n",
            "\u001b[?25l  Downloading https://files.pythonhosted.org/packages/da/08/52b26b44bce7b818b410aee37c5e424c9ea420c557bca97dc2adac29b151/yarl-1.6.3-cp36-cp36m-manylinux2014_x86_64.whl (293kB)\n",
            "\u001b[K     |████████████████████████████████| 296kB 16.6MB/s \n",
            "\u001b[?25hRequirement already satisfied: chardet<4.0,>=2.0 in /usr/local/lib/python3.6/dist-packages (from aiohttp->alpha_vantage) (3.0.4)\n",
            "Collecting async-timeout<4.0,>=3.0\n",
            "  Downloading https://files.pythonhosted.org/packages/e1/1e/5a4441be21b0726c4464f3f23c8b19628372f606755a9d2e46c187e65ec4/async_timeout-3.0.1-py3-none-any.whl\n",
            "Collecting multidict<7.0,>=4.5\n",
            "\u001b[?25l  Downloading https://files.pythonhosted.org/packages/a1/35/b22524d6b9cacfb4c5eff413a069bbc17c6ea628e54da5c6c989998ced5f/multidict-5.1.0-cp36-cp36m-manylinux2014_x86_64.whl (141kB)\n",
            "\u001b[K     |████████████████████████████████| 143kB 20.2MB/s \n",
            "\u001b[?25hCollecting idna-ssl>=1.0; python_version < \"3.7\"\n",
            "  Downloading https://files.pythonhosted.org/packages/46/03/07c4894aae38b0de52b52586b24bf189bb83e4ddabfe2e2c8f2419eec6f4/idna-ssl-1.1.0.tar.gz\n",
            "Requirement already satisfied: idna<3,>=2.5 in /usr/local/lib/python3.6/dist-packages (from requests->alpha_vantage) (2.10)\n",
            "Requirement already satisfied: urllib3!=1.25.0,!=1.25.1,<1.26,>=1.21.1 in /usr/local/lib/python3.6/dist-packages (from requests->alpha_vantage) (1.24.3)\n",
            "Requirement already satisfied: certifi>=2017.4.17 in /usr/local/lib/python3.6/dist-packages (from requests->alpha_vantage) (2020.12.5)\n",
            "Building wheels for collected packages: idna-ssl\n",
            "  Building wheel for idna-ssl (setup.py) ... \u001b[?25l\u001b[?25hdone\n",
            "  Created wheel for idna-ssl: filename=idna_ssl-1.1.0-cp36-none-any.whl size=3163 sha256=89f3abd4421d8b312800c5af35d303435dc06e6a6c94357a1731e2d4fe25ca10\n",
            "  Stored in directory: /root/.cache/pip/wheels/d3/00/b3/32d613e19e08a739751dd6bf998cfed277728f8b2127ad4eb7\n",
            "Successfully built idna-ssl\n",
            "Installing collected packages: multidict, yarl, async-timeout, idna-ssl, aiohttp, alpha-vantage\n",
            "Successfully installed aiohttp-3.7.3 alpha-vantage-2.3.1 async-timeout-3.0.1 idna-ssl-1.1.0 multidict-5.1.0 yarl-1.6.3\n"
          ],
          "name": "stdout"
        }
      ]
    },
    {
      "cell_type": "code",
      "metadata": {
        "colab": {
          "base_uri": "https://localhost:8080/",
          "height": 450
        },
        "id": "PsfTJu8ZMjFR",
        "outputId": "be2eb911-8948-4ede-c01e-2a57f4191477"
      },
      "source": [
        "import pandas as pd\n",
        "from alpha_vantage.timeseries import TimeSeries\n",
        "import time\n",
        "api_key = '4ZJ3CYYO79QCMTZA'\n",
        "ts = TimeSeries(key=api_key,output_format='pandas')\n",
        "data,meta_data = ts.get_intraday(symbol='CRIS',interval = '1min',outputsize = 'full')\n",
        "data\n"
      ],
      "execution_count": null,
      "outputs": [
        {
          "output_type": "execute_result",
          "data": {
            "text/html": [
              "<div>\n",
              "<style scoped>\n",
              "    .dataframe tbody tr th:only-of-type {\n",
              "        vertical-align: middle;\n",
              "    }\n",
              "\n",
              "    .dataframe tbody tr th {\n",
              "        vertical-align: top;\n",
              "    }\n",
              "\n",
              "    .dataframe thead th {\n",
              "        text-align: right;\n",
              "    }\n",
              "</style>\n",
              "<table border=\"1\" class=\"dataframe\">\n",
              "  <thead>\n",
              "    <tr style=\"text-align: right;\">\n",
              "      <th></th>\n",
              "      <th>1. open</th>\n",
              "      <th>2. high</th>\n",
              "      <th>3. low</th>\n",
              "      <th>4. close</th>\n",
              "      <th>5. volume</th>\n",
              "    </tr>\n",
              "    <tr>\n",
              "      <th>date</th>\n",
              "      <th></th>\n",
              "      <th></th>\n",
              "      <th></th>\n",
              "      <th></th>\n",
              "      <th></th>\n",
              "    </tr>\n",
              "  </thead>\n",
              "  <tbody>\n",
              "    <tr>\n",
              "      <th>2020-12-07 19:59:00</th>\n",
              "      <td>1.44</td>\n",
              "      <td>1.44</td>\n",
              "      <td>1.4400</td>\n",
              "      <td>1.4400</td>\n",
              "      <td>1535.0</td>\n",
              "    </tr>\n",
              "    <tr>\n",
              "      <th>2020-12-07 19:53:00</th>\n",
              "      <td>1.42</td>\n",
              "      <td>1.42</td>\n",
              "      <td>1.4200</td>\n",
              "      <td>1.4200</td>\n",
              "      <td>350.0</td>\n",
              "    </tr>\n",
              "    <tr>\n",
              "      <th>2020-12-07 19:50:00</th>\n",
              "      <td>1.44</td>\n",
              "      <td>1.44</td>\n",
              "      <td>1.4400</td>\n",
              "      <td>1.4400</td>\n",
              "      <td>100.0</td>\n",
              "    </tr>\n",
              "    <tr>\n",
              "      <th>2020-12-07 19:45:00</th>\n",
              "      <td>1.44</td>\n",
              "      <td>1.44</td>\n",
              "      <td>1.4399</td>\n",
              "      <td>1.4399</td>\n",
              "      <td>2000.0</td>\n",
              "    </tr>\n",
              "    <tr>\n",
              "      <th>2020-12-07 19:39:00</th>\n",
              "      <td>1.41</td>\n",
              "      <td>1.41</td>\n",
              "      <td>1.4100</td>\n",
              "      <td>1.4100</td>\n",
              "      <td>200.0</td>\n",
              "    </tr>\n",
              "    <tr>\n",
              "      <th>...</th>\n",
              "      <td>...</td>\n",
              "      <td>...</td>\n",
              "      <td>...</td>\n",
              "      <td>...</td>\n",
              "      <td>...</td>\n",
              "    </tr>\n",
              "    <tr>\n",
              "      <th>2020-11-24 06:40:00</th>\n",
              "      <td>1.47</td>\n",
              "      <td>1.49</td>\n",
              "      <td>1.4700</td>\n",
              "      <td>1.4900</td>\n",
              "      <td>1300.0</td>\n",
              "    </tr>\n",
              "    <tr>\n",
              "      <th>2020-11-24 06:39:00</th>\n",
              "      <td>1.47</td>\n",
              "      <td>1.48</td>\n",
              "      <td>1.4700</td>\n",
              "      <td>1.4800</td>\n",
              "      <td>1100.0</td>\n",
              "    </tr>\n",
              "    <tr>\n",
              "      <th>2020-11-24 06:07:00</th>\n",
              "      <td>1.44</td>\n",
              "      <td>1.44</td>\n",
              "      <td>1.4400</td>\n",
              "      <td>1.4400</td>\n",
              "      <td>5600.0</td>\n",
              "    </tr>\n",
              "    <tr>\n",
              "      <th>2020-11-24 06:06:00</th>\n",
              "      <td>1.49</td>\n",
              "      <td>1.50</td>\n",
              "      <td>1.4900</td>\n",
              "      <td>1.5000</td>\n",
              "      <td>1000.0</td>\n",
              "    </tr>\n",
              "    <tr>\n",
              "      <th>2020-11-24 06:03:00</th>\n",
              "      <td>1.35</td>\n",
              "      <td>1.45</td>\n",
              "      <td>1.3500</td>\n",
              "      <td>1.4500</td>\n",
              "      <td>1154.0</td>\n",
              "    </tr>\n",
              "  </tbody>\n",
              "</table>\n",
              "<p>3145 rows × 5 columns</p>\n",
              "</div>"
            ],
            "text/plain": [
              "                     1. open  2. high  3. low  4. close  5. volume\n",
              "date                                                              \n",
              "2020-12-07 19:59:00     1.44     1.44  1.4400    1.4400     1535.0\n",
              "2020-12-07 19:53:00     1.42     1.42  1.4200    1.4200      350.0\n",
              "2020-12-07 19:50:00     1.44     1.44  1.4400    1.4400      100.0\n",
              "2020-12-07 19:45:00     1.44     1.44  1.4399    1.4399     2000.0\n",
              "2020-12-07 19:39:00     1.41     1.41  1.4100    1.4100      200.0\n",
              "...                      ...      ...     ...       ...        ...\n",
              "2020-11-24 06:40:00     1.47     1.49  1.4700    1.4900     1300.0\n",
              "2020-11-24 06:39:00     1.47     1.48  1.4700    1.4800     1100.0\n",
              "2020-11-24 06:07:00     1.44     1.44  1.4400    1.4400     5600.0\n",
              "2020-11-24 06:06:00     1.49     1.50  1.4900    1.5000     1000.0\n",
              "2020-11-24 06:03:00     1.35     1.45  1.3500    1.4500     1154.0\n",
              "\n",
              "[3145 rows x 5 columns]"
            ]
          },
          "metadata": {
            "tags": []
          },
          "execution_count": 45
        }
      ]
    },
    {
      "cell_type": "code",
      "metadata": {
        "colab": {
          "base_uri": "https://localhost:8080/"
        },
        "id": "MIX3TUsyOPXx",
        "outputId": "73c14e81-226f-4850-9751-72b5e29b7fb9"
      },
      "source": [
        "i = 1\n",
        "close_data = data['4. close']\n",
        "percentage_change = close_data.pct_change()\n",
        "percentage_change\n",
        "#while i==1:\n",
        "  #data,meta_data = ts.get_intraday(symbol='MSFT',interval = '1min',outputsize = 'full')\n",
        "  #data.to_excel(\"output.xlsx\")\n",
        "  #time.sleep(60)"
      ],
      "execution_count": null,
      "outputs": [
        {
          "output_type": "execute_result",
          "data": {
            "text/plain": [
              "date\n",
              "2020-12-07 19:59:00         NaN\n",
              "2020-12-07 19:53:00   -0.013889\n",
              "2020-12-07 19:50:00    0.014085\n",
              "2020-12-07 19:45:00   -0.000069\n",
              "2020-12-07 19:39:00   -0.020765\n",
              "                         ...   \n",
              "2020-11-24 06:40:00   -0.032468\n",
              "2020-11-24 06:39:00   -0.006711\n",
              "2020-11-24 06:07:00   -0.027027\n",
              "2020-11-24 06:06:00    0.041667\n",
              "2020-11-24 06:03:00   -0.033333\n",
              "Name: 4. close, Length: 3145, dtype: float64"
            ]
          },
          "metadata": {
            "tags": []
          },
          "execution_count": 46
        }
      ]
    },
    {
      "cell_type": "code",
      "metadata": {
        "colab": {
          "base_uri": "https://localhost:8080/",
          "height": 129
        },
        "id": "kZKmPoaGVl7q",
        "outputId": "f4186311-9173-42fd-a770-fb73943d12ad"
      },
      "source": [
        "last_change = percentage_change[-1]\n",
        "if abs(last_change) > 0.0003:\n",
        "  \"AAPL ALert:\"+ \"last_change\"\n"
      ],
      "execution_count": null,
      "outputs": [
        {
          "output_type": "error",
          "ename": "SyntaxError",
          "evalue": "ignored",
          "traceback": [
            "\u001b[0;36m  File \u001b[0;32m\"<ipython-input-50-12e9d0383f52>\"\u001b[0;36m, line \u001b[0;32m5\u001b[0m\n\u001b[0;31m    return(last_change)\u001b[0m\n\u001b[0m                       ^\u001b[0m\n\u001b[0;31mSyntaxError\u001b[0m\u001b[0;31m:\u001b[0m 'return' outside function\n"
          ]
        }
      ]
    }
  ]
}